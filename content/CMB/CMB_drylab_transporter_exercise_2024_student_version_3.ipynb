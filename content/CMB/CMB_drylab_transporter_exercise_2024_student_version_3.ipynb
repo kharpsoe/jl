{
  "cells": [
    {
      "cell_type": "markdown",
      "metadata": {
        "id": "D76c4HrOhxe7"
      },
      "source": [
        "# Glutamine uptake into human cells - dry-lab exercise\n",
        "---\n",
        "**Contributions**:\n",
        "\n",
        "This teaching material was developed by [**Kasper Harpsøe**](https://ilf.ku.dk/ansatte/?pure=da/persons/318979) with help from [**Niels Skotte**](https://drug.ku.dk/staff/?pure=en/persons/179472) and [**Osman Mirza**](https://drug.ku.dk/staff/?pure=en/persons/70309)\n",
        "\n",
        "---\n"
      ]
    },
    {
      "cell_type": "markdown",
      "metadata": {
        "id": "ZfRLVcZqlFlY"
      },
      "source": [
        "## Aims of this dry-lab exercise\n",
        "\n",
        "Going through the workflow in this notebook has two main aims:\n",
        "1.   Teaching about membrane transport proteins and transport across the cell membrane.\n",
        "2.   Getting familiar with importing, handling, analyzing and visualizing data with the use of python code in a notebook format.\n",
        "\n",
        "With respect to the second aim, we assume that you have been through the [Python for PharmaSchool](https://colab.research.google.com/drive/1447A8yHXoss-QQcf7Y1CiIHu6J2FKKtL?usp=sharing) material and completed the quiz on the Absalon course page.\n",
        "\n",
        "---"
      ]
    },
    {
      "cell_type": "markdown",
      "metadata": {
        "id": "9IAMRyuC7_wu"
      },
      "source": [
        "## Basic glutamine transport\n",
        "Human cells contain several different transporter proteins that provide the cells with essential nutrients and other important molecules.\n",
        "\n",
        "In this “dry-lab” exercise you will be presented with data on uptake of the amino acid glutamine (Gln) under different conditions and/or in the presence of other compounds. The data represents Gln uptake assays where cells are incubated with radioactively labeled Gln. Your task is to plot the data in a presentable way and analyze it - in the end to conclude on which Gln transporter among several possible that is performing the uptake. The experiments are made using special cells that “overexpress” a single Gln transporter.\n",
        "\n",
        "First we perform a control experiment where nothing but the radioactively labled Gln is present. The experiment is performed in triplcates with the following results:\n",
        "\n",
        "1.   123\n",
        "2.   132\n",
        "3.   133\n",
        "\n",
        "In the following, you will use two different plots to present these data. You should consider pros and cons for the two plots in terms of which values are displayed and how they are shown. Consider that the main purpose of the plot is to compare many similar experiments.\n"
      ]
    },
    {
      "cell_type": "markdown",
      "metadata": {
        "id": "W-1zWvVzr_3x"
      },
      "source": [
        "# Creating your first plots with the help of AI\n",
        "\n",
        "First we would like to illustrate how you can easily create your own code using an AI chatbot/search engine like Gemini (can be accessed directly from Colab in the upper right corner), Copilot, ChatGPT or Perplexity."
      ]
    },
    {
      "cell_type": "markdown",
      "metadata": {
        "id": "_1TIIgElRqro"
      },
      "source": [
        "## Box plot\n",
        "One possible way of presenting the results is the box plot.\n",
        "\n",
        "*Ask your preferred chatbot to* **write python code that takes the values 123,132,133 as input to create a box plot called fig1 using plotly graphical objects**.\n",
        "\n",
        "Copy the code into the empty code cell below and run the code."
      ]
    },
    {
      "cell_type": "markdown",
      "metadata": {
        "id": "1mFsNm5ORr3t"
      },
      "source": [
        "### Code cell 1"
      ]
    },
    {
      "cell_type": "code",
      "execution_count": null,
      "metadata": {
        "id": "KVwmxJVLfEUR"
      },
      "outputs": [],
      "source": [
        "# Copy the suggested code from the chatbot here and run it\n"
      ]
    },
    {
      "cell_type": "markdown",
      "metadata": {
        "id": "nIKXTqXde1IA"
      },
      "source": [
        "Depending on which service you use, the boxplot may look different. A default boxplot only shows the box with the median and the whiskers. However, if not already included, we can add the points of measuments and the mean plus standard deviation.\n",
        "\n",
        "*Ask the AI chatbot to* **also show the data points in the middle of the box plus the mean and standard deviation**.\n",
        "\n",
        "Copy the code into the code cell above (or create a new code cell) and run the code.\n",
        "\n",
        "---\n",
        "\n",
        "Additionally, to improve the layout we can add/edit the title and the axes plus define the size of the plot.\n",
        "\n",
        "*Tell the AI chatbot that* **the y-axis should be 121 - 135, the y-axis title should be \"Counts\", the plot title should be \"Gln transport\" and the plot size should be 400x500**.\n",
        "\n",
        "Copy the code into the code cell above (or create a new code cell) and run the code.\n",
        "\n",
        "\n"
      ]
    },
    {
      "cell_type": "markdown",
      "metadata": {
        "id": "TZWhBAlmyYTB"
      },
      "source": [
        "## Bar plot\n",
        "Another alternative is the bar plot and, again, we will ask a chatbot to write the code for os.\n",
        "\n",
        "We would like to plot the mean as the bar heigth and show the standard deviation as the error. Thus, we want to calculate these values first with functions from the numpy library.\n",
        "\n",
        "*Ask the chatbot to* **write python code that first use numpy to calculate the mean and standard deviation for the values 123,132,133 and then create a bar plot called fig2 with plotly graphical objects showing the mean as the bar and the standard deviation as the error**."
      ]
    },
    {
      "cell_type": "markdown",
      "metadata": {
        "id": "KwqX81RuRzrN"
      },
      "source": [
        "### Code cell 2"
      ]
    },
    {
      "cell_type": "code",
      "execution_count": null,
      "metadata": {
        "id": "inR04WayrqCX"
      },
      "outputs": [],
      "source": [
        "# Copy the suggested code from the chatbot here and run it\n"
      ]
    },
    {
      "cell_type": "markdown",
      "metadata": {
        "id": "onrrAdvQt67R"
      },
      "source": [
        "As for the box plot above, you can update the axis and layout by *telling the chatbot that* **the y-axis title should be \"Counts\", the plot title should be \"Gln transport\" and the plot size should be 400x500**\n",
        "\n",
        "Copy the code into the code cell above (or create a new code cell) and run the code."
      ]
    },
    {
      "cell_type": "markdown",
      "metadata": {
        "id": "8dapIbsJxQdb"
      },
      "source": [
        "## Bar plot explained\n",
        "Depending on which AI service you use to generate the code, you get different solutions (in terms of how elaborate or compressed the code is) and levels of explanations. For that reason, we provide the detailes for what is needed to generate the bar plot (read the comments above each code line):"
      ]
    },
    {
      "cell_type": "markdown",
      "metadata": {
        "id": "2kU-tm2JR586"
      },
      "source": [
        "### Code cell 3"
      ]
    },
    {
      "cell_type": "code",
      "execution_count": null,
      "metadata": {
        "id": "rc3cf12Ux3Gh"
      },
      "outputs": [],
      "source": [
        "# First we define a list with the measures values:\n",
        "values = [123,132,133]\n",
        "\n",
        "# Print the list to see that it is correct:\n",
        "print(values)"
      ]
    },
    {
      "cell_type": "markdown",
      "metadata": {
        "id": "yHNY5LAvR8DL"
      },
      "source": [
        "### Code cell 4"
      ]
    },
    {
      "cell_type": "code",
      "execution_count": null,
      "metadata": {
        "id": "nRpIzmqyiAGh"
      },
      "outputs": [],
      "source": [
        "# Import the numpy library as the abbreviation \"np\":\n",
        "import numpy as np\n",
        "\n",
        "# Calculate the mean of the \"values\" list using the \"mean()\" function from numpy\n",
        "# and assign it to a variable called \"mean\":\n",
        "mean = np.mean(values)\n",
        "\n",
        "# Same thing for the standard deviation using the \"std()\" function from numpy:\n",
        "std = np.std(values)\n",
        "\n",
        "# Print the calculated values rounded to 2 decimals after some text (surrounded by ' '):\n",
        "print('The mean is:', np.round(mean, 2))\n",
        "print('The standard deviation is', np.round(std, 2))"
      ]
    },
    {
      "cell_type": "markdown",
      "metadata": {
        "id": "wRssiPy4R-H4"
      },
      "source": [
        "### Code cell 5"
      ]
    },
    {
      "cell_type": "code",
      "execution_count": null,
      "metadata": {
        "id": "ZhDGZ58Yx769"
      },
      "outputs": [],
      "source": [
        "# Import the plotly graphical object library as \"go\":\n",
        "%pip install -q nbformat plotly openpyxl\n",
        "import plotly.graph_objects as go\n",
        "\n",
        "\n",
        "# Create an empty figure object\n",
        "fig2b = go.Figure()\n",
        "\n",
        "# Add a bar plot showing the mean as the heigth (y), the text \"Mean\" as\n",
        "# label (x) and the standard deviation as the error (error_y):\n",
        "fig2b.add_bar(x=['Mean'], y=[mean], error_y=dict(type='data', array = [std]))\n",
        "# AI likely suggested \"add_trace(go.Bar)\" but here we used \"add_bar()\", which gives the same\n",
        "\n",
        "# Update the layout with titles and adjust the size\n",
        "fig2b.update_layout(title='Gln transport', width=400, height=500, yaxis_title='Counts')\n",
        "\n",
        "# Display the figure:\n",
        "fig2b.show()"
      ]
    },
    {
      "cell_type": "markdown",
      "metadata": {
        "id": "UYcGIRCdokpV"
      },
      "source": [
        "## CLASS DISCUSSION\n",
        "Discuss how the data are best represented in a plot when considering that it should be displayed in a simple way and be suitable for easy comparison to similar experiments.\n",
        "\n",
        "*   Which of the above plots do you prefer - and why?\n",
        "*   Which values do the plots display and which are most relevant?\n",
        "*   Discuss pros and cons of the plots in terms of easy comparison to other experiments?\n"
      ]
    },
    {
      "cell_type": "markdown",
      "metadata": {
        "id": "arEhaR5C59-p"
      },
      "source": [
        "# Library import\n",
        "In the code above, we imported libraries whenever needed. However, it is common practice to import all needed libraries in the begining af a script/workflow.\n",
        "\n",
        "Here we import the libraries used in the following data analysis to handle, process and visualise data:\n",
        "*   Pandas is for handling data as dataframes (excel-like)\n",
        "*   Numpy is \"numerical python\" for manipulating numbers\n",
        "*   Plotly is for creation of plots\n",
        "*   Lmfit is for curve fitting (needs installation before import)"
      ]
    },
    {
      "cell_type": "markdown",
      "metadata": {
        "id": "YAGAd74kSAld"
      },
      "source": [
        "### Code cell 6"
      ]
    },
    {
      "cell_type": "code",
      "execution_count": null,
      "metadata": {
        "id": "EYO6w1XsErWY"
      },
      "outputs": [],
      "source": [
        "# Install and import needed libraries\n",
        "import pandas as pd\n",
        "import numpy as np\n",
        "%pip install -q nbformat plotly openpyxl\n",
        "import plotly.graph_objects as go\n",
        "%pip install lmfit\n",
        "from lmfit import Model"
      ]
    },
    {
      "cell_type": "markdown",
      "metadata": {
        "id": "auW8Yb0UYkEf"
      },
      "source": [
        "# Dependency of H<sup>+</sup> and Na<sup>+</sup> - adding ionophores\n",
        "First, we would like to test whether the transport is dependent on ion-gradients (typically protons, H$^{+}$, or sodium, Na$^{+}$). This is done by performing the uptake assay in the presence of an ionophore, which typically selectively destroys/disables the ion gradient.\n",
        "\n",
        "\n",
        "---\n",
        "\n",
        "\n",
        "Ionophores from: https://en.wikipedia.org/wiki/Ionophore\n",
        "![Ionophores](https://drive.google.com/uc?export=view&id=1SFvl9evqm-wMZoiM8O-DPAobfHJlKVbB)\n",
        "\n",
        "<font color=#636363>**Carrier and channel ionophores**\n",
        "(a) Carrier ionophores reversibly bind ions and carry them through cell membranes.\n",
        "(b) Channel ionophores create channels within cell membranes to facilitate the transport of ions.</font>\n",
        "\n",
        "\n",
        "---\n",
        "We will compare the new data with our control experiment, which is already put into a list called *values*.\n",
        "\n",
        "Again, we perform the experiments in triplicates and we get:\n",
        "\n",
        "*   H$^{+}$ ionophore: 100, 110 and 124\n",
        "*   Na$^{+}$ ionophore: 20, 43, 10\n",
        "\n",
        "\n",
        "First we need to get the data into lists - like our control experiment. Then, since these data are \"outside\" the pandas dataframe, we calculate the mean and std using numpy and add those to the lists.\n",
        "\n",
        "First we do this for the experiments with a H$^{+}$ ionophore."
      ]
    },
    {
      "cell_type": "markdown",
      "metadata": {
        "id": "2sbC6Ph7TZjz"
      },
      "source": [
        "### Code cell 7"
      ]
    },
    {
      "cell_type": "code",
      "execution_count": null,
      "metadata": {
        "id": "D2aEDGcVDKUH"
      },
      "outputs": [],
      "source": [
        "# Create a list with the measured values for the H+ ionophore and print it:\n",
        "h = [100, 110, 124]\n",
        "print('the list of values for h:', h)\n",
        "\n",
        "# Calculate mean and standard deviation for \"h\" and assign them to two new variables:\n",
        "mean_h = np.mean(h)\n",
        "std_h = np.std(h)\n",
        "\n",
        "# Then \"extend\" the list with those variables and print again:\n",
        "h.extend([mean_h, std_h])\n",
        "print('with added mean and std:', np.round(h,2))\n"
      ]
    },
    {
      "cell_type": "markdown",
      "metadata": {
        "id": "KH08XmzSBhI3"
      },
      "source": [
        "Now you should do the same for the values from the Na$^{+}$ ionophore experiment but ***combining three code lines into one***. Keep trying until you get the correct output.\n",
        "\n",
        "**HINT**: Replace the variables in the \"extend()\" function with the content of the variables."
      ]
    },
    {
      "cell_type": "markdown",
      "metadata": {
        "id": "DLI6S2nNTbhJ"
      },
      "source": [
        "### Code cell 8"
      ]
    },
    {
      "cell_type": "code",
      "execution_count": null,
      "metadata": {
        "id": "1bMFFZYY9BCj"
      },
      "outputs": [],
      "source": [
        "# Create a list with the measured values for the Na+ ionophore and print it:\n",
        "na = [20,43,10]\n",
        "print('the list of values for na:', na)\n",
        "\n",
        "# Calculate mean and standard deviation for \"na\" and \"extend\" the list with\n",
        "# those values. YOUR CODE GOES HERE - copy from code cell above and edit:\n",
        "\n",
        "???"
      ]
    },
    {
      "cell_type": "markdown",
      "metadata": {
        "id": "mNfsLoDMC7wR"
      },
      "source": [
        "## Ploting the data\n",
        "First we define three lists with the data that we want to display and then we use these lists in the plot."
      ]
    },
    {
      "cell_type": "markdown",
      "metadata": {
        "id": "8sLYaKeHGLT-"
      },
      "source": [
        "\n",
        "### Code cell 9"
      ]
    },
    {
      "cell_type": "code",
      "execution_count": null,
      "metadata": {
        "id": "XcVA6-JKDG_6"
      },
      "outputs": [],
      "source": [
        "# Create lists with labels, mean and std values:\n",
        "label_list = ['Gln*', 'Gln* + H-ionophore','Gln* + Na-ionophore']\n",
        "mean_list = [mean, mean_h, np.mean(na)]\n",
        "std_list = [std, std_h, np.std(na)]\n",
        "\n",
        "# Create a new figure object:\n",
        "fig3 = go.Figure()\n",
        "\n",
        "# Add the data as lists from the control and ionophore experiments as a bars:\n",
        "fig3.add_bar(x=label_list, y=mean_list, marker={'color': 'red'},\n",
        "             error_y=dict(type='data',array=std_list))\n",
        "\n",
        "# Format the figure\n",
        "fig3.update_layout(title='Gln transport in presence of ionophores', bargap=0.3,\n",
        "                   yaxis_title = 'Counts', width=500)\n",
        "\n",
        "# Display the figure\n",
        "fig3.show()"
      ]
    },
    {
      "cell_type": "markdown",
      "metadata": {
        "id": "h7Grmis9rQDJ"
      },
      "source": [
        "## CLASS DISCUSSION\n",
        "What can you conclude about the Gln transporter from these results:\n",
        "\n",
        "*   Is the transport of Gln dependent on the electrochemical ion gradient of H+?\n",
        "*   Is the transport of Gln dependent on the electrochemical ion gradient of Na+?\n",
        "*   What kind of transporter is the one you are working with?\n",
        "\n",
        "About the code:\n",
        "\n",
        "* Look at the two different ways that code was (or can be) used to calculate and add mean + std to the lists (shown below).\n",
        "* Which do you prefer and why?\n",
        "* What are the pros and cons?\n",
        "\n",
        "\n",
        "```\n",
        "# Calculate mean and standard deviation for h and add to list:\n",
        "mean_h = np.mean(h)\n",
        "std_h = np.std(h)\n",
        "h.extend([mean_h, std_h])\n",
        "\n",
        "# Do the same for na - now in more condensed code:\n",
        "na.extend([np.mean(na), np.std(na)])\n",
        "```\n",
        "\n",
        "\n",
        "\n"
      ]
    },
    {
      "cell_type": "markdown",
      "metadata": {
        "id": "WMoBWXzvyaJc"
      },
      "source": [
        "# Dependency of Cl<sup>-</sup>\n",
        "Transport dependency of ions can be tested by simply adding specific ions to a simple experiment measuring Gln uptake.\n",
        "\n",
        "In this experiment, we measure the total Gln concentration every 2 minutes without addition of anything, adding KCl after 20 minutes, adding NaCl after 40 minutes and finaly adding an ATPase inhibitor after 60 minutes. The data is availble in a shared csv-file. First we will import the data into a dataframe and make a simple scatter plot."
      ]
    },
    {
      "cell_type": "markdown",
      "metadata": {
        "id": "mEzkDEEGTlmF"
      },
      "source": [
        "### Code cell 10"
      ]
    },
    {
      "cell_type": "code",
      "execution_count": null,
      "metadata": {
        "id": "CJqQZMr_AcXp"
      },
      "outputs": [],
      "source": [
        "# Define the url:\n",
        "#url1 = 'https://drive.google.com/uc?id=1JxXfni0ACLHP93BFaTbM18p5kmqDXVPg'\n",
        "\n",
        "# Put the data into a dataframe\n",
        "#df_gln_cl = pd.read_csv(url1)\n",
        "df_gln_cl = pd.read_csv('Cl_data.csv')\n",
        "\n",
        "# Make a scatter plot with annotations indicating changed conditions\n",
        "fig4 = go.Figure()\n",
        "fig4.add_scatter(x=df_gln_cl['Time'], y=df_gln_cl['Gln'], mode='markers')\n",
        "fig4.update_layout(title='Gln uptake over time', xaxis_title='Time (min)', yaxis_title='Total [Gln] (mM)')\n",
        "\n",
        "# Define a function to get the value of Gln based on Time\n",
        "def y_val(x):\n",
        "  y = df_gln_cl.loc[df_gln_cl['Time'] == x, 'Gln'].values[0]\n",
        "  return(y)\n",
        "\n",
        "# Add annotations using the function above to get the y-variable\n",
        "fig4.add_annotation(x=20, y=y_val(20), text='KCl added', showarrow=True, arrowhead=3, arrowwidth=2)\n",
        "fig4.add_annotation(x=40, y=y_val(40), text='NaCl added', showarrow=True, arrowhead=3, arrowwidth=2)\n",
        "fig4.add_annotation(x=60, y=y_val(60), text='ATPase inh. added', showarrow=True, arrowhead=3, arrowwidth=2)\n",
        "fig4.show()"
      ]
    },
    {
      "cell_type": "markdown",
      "metadata": {
        "id": "mFydos8RjoLo"
      },
      "source": [
        "## CLASS DISCUSSION\n",
        "What can you conclude about the Gln transporter from the above experiment:\n",
        "\n",
        "* What happens when KCl is added?\n",
        "* What happens when NaCl is added?\n",
        "* Is the transport of Gln dependent on the presence of Cl$^{-}$?\n",
        "* What happens when we add an ATPase inhibitor and why?\n",
        "\n",
        "About the code:\n",
        "\n",
        "* In code cell 10, we use three lines of code to define a function that is used in three other lines of code - does it make sense?\n",
        "* What are the pros and cons?\n",
        "* What exactly is the function doing?\n"
      ]
    },
    {
      "cell_type": "markdown",
      "metadata": {
        "id": "EH105PjintN8"
      },
      "source": [
        "# Amino acid specificity\n",
        "Experiments similar to the control experiment have been performed in the presence of all 20 amino acids and the data are shared in a ***csv*** file on Google Drive.\n",
        "\n",
        "**INFO**: csv is a file format just like excel - it is short for \"comma separated values\".\n",
        "\n",
        "First we import the data and put it into a dataframe while setting the first column as the index.\n",
        "\n",
        "**The file import will fail**\n",
        "\n",
        "Read the last line of the error message plus the first line of this text box (where do you specify the file format in the code) - edit and run the code).\n",
        "\n",
        "*If you have activated Gemini* (in the upper right corner), you can ask for an explanation of the error by clicking the button just below the error message.\n",
        "\n"
      ]
    },
    {
      "cell_type": "markdown",
      "metadata": {
        "id": "gRWIbAZnSCk0"
      },
      "source": [
        "### Code cell 11"
      ]
    },
    {
      "cell_type": "code",
      "execution_count": null,
      "metadata": {
        "id": "3M2L7vrC6sI8"
      },
      "outputs": [],
      "source": [
        "# The data is shared as a \"csv\" file by the following link, which we assign to\n",
        "# a variable called \"url\":\n",
        "#url2 = 'https://drive.google.com/uc?id=1k6jbP2lsp_R0nwfbtmMBDbGdC49txjBQ'\n",
        "\n",
        "# Let us use the \"read_format()\" function from pandas to load the \"url\" variable\n",
        "# into a dataframe called \"df_gln\":\n",
        "#df_gln = pd.read_excel(url2, index_col=0)\n",
        "df_gln = pd.read_excel('AA_data.csv', index_col=0)\n",
        "\n",
        "# Now everytime we write \"df_gln.some_function\" then \"some_function\" is\n",
        "# taken from the pandas library.\n",
        "\n",
        "# Display the data:\n",
        "df_gln"
      ]
    },
    {
      "cell_type": "markdown",
      "metadata": {
        "id": "yMc42nt9oIP6"
      },
      "source": [
        "The control experiment is transport of radio-labled Gln alone (the same experiment we looked at above) and the other listed experiments are Gln with the specified amino acid added in large surplus."
      ]
    },
    {
      "cell_type": "markdown",
      "metadata": {
        "id": "EKaRzGiB8HpA"
      },
      "source": [
        "## Calculating means and standard deviations\n",
        "We would like to calculate mean and standard deviation for all of the experiments at once and add them to the dataframe. As above, we use the `mean()` and `std()` functions from NumPy.\n",
        "\n",
        "First, we do this for the mean.\n"
      ]
    },
    {
      "cell_type": "markdown",
      "metadata": {
        "id": "cth9HMb-TGk2"
      },
      "source": [
        "### Code cell 12"
      ]
    },
    {
      "cell_type": "code",
      "execution_count": null,
      "metadata": {
        "id": "PNtHtu_-nVoN"
      },
      "outputs": [],
      "source": [
        "# Make a new column in the dataframe called \"mean\" and put the calculated mean\n",
        "# into the column:\n",
        "df_gln['mean'] = np.mean(df_gln[['Value 1','Value 2','Value 3']],axis=1)\n",
        "\n",
        "# And have another look at the data:\n",
        "df_gln"
      ]
    },
    {
      "cell_type": "markdown",
      "metadata": {
        "id": "dZLBTOKbTL07"
      },
      "source": [
        "### Code cell 13"
      ]
    },
    {
      "cell_type": "markdown",
      "metadata": {
        "id": "wWuXq3_9aTkr"
      },
      "source": [
        "Next, you need to perform the same thing for the standard deviation."
      ]
    },
    {
      "cell_type": "code",
      "execution_count": null,
      "metadata": {
        "id": "14cEFpVI0TCU"
      },
      "outputs": [],
      "source": [
        "# Make a new column in the dataframe called \"std\" and put the calculated\n",
        "# standard deviation into the column:\n",
        "# YOUR CODE GOES HERE - copy from code cell above and edit:\n",
        "\n",
        "\n",
        "# And have another look at the data:\n",
        "df_gln"
      ]
    },
    {
      "cell_type": "markdown",
      "metadata": {
        "id": "0v9ylgV-5dx-"
      },
      "source": [
        "## Plotting all the data\n",
        "Now, we will display all the experiments in the same bar plot."
      ]
    },
    {
      "cell_type": "markdown",
      "metadata": {
        "id": "9MN5I3l2TPWP"
      },
      "source": [
        "### Code cell 14"
      ]
    },
    {
      "cell_type": "code",
      "execution_count": null,
      "metadata": {
        "id": "yRwOpRhpB4f5"
      },
      "outputs": [],
      "source": [
        "# Create a new empty figure with the graph_object function:\n",
        "fig5 = go.Figure()\n",
        "\n",
        "# Add the data. Labels (x) are taken from the dataframe index, bar height (y) is\n",
        "# taken from the \"mean\" column and errors from the \"std\" column:\n",
        "fig5.add_bar(x=df_gln.index, y=df_gln['mean'],\n",
        "             error_y=dict(type='data', array=df_gln['std']),\n",
        "             marker={'color': 'red'})\n",
        "\n",
        "# Format the figure\n",
        "fig5.update_layout(title='Gln in precense of other amino acids',\n",
        "                   xaxis_title='Experiment', yaxis_title='Counts',\n",
        "                   bargap=0.2, width=1200, height=500)\n",
        "\n",
        "# Display the figure\n",
        "fig5.show()"
      ]
    },
    {
      "cell_type": "markdown",
      "metadata": {
        "id": "EHmiP32ItyR5"
      },
      "source": [
        "## Plot selected experiments automatically based on values\n",
        "Often you are interested in displaying only the data that match some requirements, especially if you have a lot of data. In this case, it could be to display only the experiments that show **transport** or **no transport** of the tested amino acids.\n",
        "\n",
        "Let us first retrieve som basic information about the data (minimum, maximum, mean and median of the values in the *mean* column), which you may use to define your requirements.\n"
      ]
    },
    {
      "cell_type": "markdown",
      "metadata": {
        "id": "qzGIDdESTT7o"
      },
      "source": [
        "### Code cell 15"
      ]
    },
    {
      "cell_type": "code",
      "execution_count": null,
      "metadata": {
        "id": "WAQW6FJqNAs7"
      },
      "outputs": [],
      "source": [
        "# Get the minimum value (using built-in min() function):\n",
        "min_val = min(df_gln['mean'])\n",
        "\n",
        "# Get the maximum value (using built-in max() function):\n",
        "max_val = max(df_gln['mean'])\n",
        "\n",
        "# Get the mean value (using numpy mean() function):\n",
        "mean_val = np.mean(df_gln['mean'])\n",
        "\n",
        "# Get the median value (using numpy median() function):\n",
        "median_val = np.median(df_gln['mean'])\n",
        "\n",
        "# Print the values:\n",
        "print('Min:', round(min_val, 2), '\\nMax:', round(max_val, 2),\n",
        "      '\\nMean:', round(mean_val, 2), '\\nMedian:', round(median_val, 2))"
      ]
    },
    {
      "cell_type": "markdown",
      "metadata": {
        "id": "VUGbrqqcboQe"
      },
      "source": [
        "About the code:\n",
        "\n",
        "* Look at the output from the print function what does `\\n` mean?\n",
        " * Delete one/two/all of the \"\\n\" and re-run the code to see how the output changes."
      ]
    },
    {
      "cell_type": "markdown",
      "metadata": {
        "id": "iJIRltLHLxFS"
      },
      "source": [
        "The below code cell contains some \"almost ready\" code to loop over and only display the data that meet a condition - **you just need to set the condition/cut-off value and specify which of two generated lists to display**.\n",
        "\n",
        "Specify the condition/cut-off value in the *if statement* and the *list variable name* that should be used for the figure to display only those experiments that show an **inhibition/competition** by the added amino acid."
      ]
    },
    {
      "cell_type": "markdown",
      "metadata": {
        "id": "mTsVX4cbTWKY"
      },
      "source": [
        "### Code cell 16"
      ]
    },
    {
      "cell_type": "code",
      "execution_count": null,
      "metadata": {
        "id": "m70dWdk8vMQQ"
      },
      "outputs": [],
      "source": [
        "# Create two lists for the experiments above and below the cut-off with just the\n",
        "# control experiment included to start with:\n",
        "above = ['Gln*']\n",
        "below = ['Gln*']\n",
        "\n",
        "# Loop over rows in the dataframe and use if-statements to select experiments,\n",
        "# which are then appended to one of the lists:\n",
        "for index, row in df_gln.iterrows():\n",
        "  if index == 'Gln*':\n",
        "    continue                      # Control is already in the list, do nothing\n",
        "  if row['mean'] < X:             # REPLACE X with your selected value\n",
        "    below.append(index)\n",
        "  else:\n",
        "    above.append(index)\n",
        "\n",
        "# Print the two lists to see if it worked as expected:\n",
        "print('Exp. below the cut-off', below)\n",
        "print('Exp. above the cut-off:', above)\n",
        "\n",
        "# Now we can plot the list containing the desired experiments showing inhibition. Define the data by replasing \"LIST\" with the\n",
        "# correct variable name, below or above:\n",
        "experiments = LIST                            # REPLACE LIST with above or below\n",
        "bar_heights = df_gln.loc[(experiments),'mean']\n",
        "standard_dev = df_gln.loc[(experiments),'std']\n",
        "\n",
        "# Create a figure\n",
        "fig6 = go.Figure()\n",
        "\n",
        "# Add the data:\n",
        "fig6.add_bar(x=experiments, y=bar_heights, marker={'color': 'red'},\n",
        "             error_y=dict(type='data', array=standard_dev))\n",
        "\n",
        "# Format the figure\n",
        "fig6.update_layout(title='Gln transport', xaxis_title='Experiments',\n",
        "                    yaxis_title='Counts', bargap=0.3)\n",
        "\n",
        "# Display the figure\n",
        "fig6.show()"
      ]
    },
    {
      "cell_type": "markdown",
      "metadata": {
        "id": "6gcyIgCD-a3X"
      },
      "source": [
        "How can you quickly change the above code to display the opposite experiments, i.e. the other list.\n",
        "\n",
        "Modify the code and run the code cell again.\n",
        "\n"
      ]
    },
    {
      "cell_type": "markdown",
      "metadata": {
        "id": "heBStfTzEyKU"
      },
      "source": [
        "## CLASS DISCUSSION\n",
        "What do these results tell us about the transporter:\n",
        "*   What does the experiment with added Gln tell you?\n",
        "*   Which amino acids are also transported (act as competitors) and which are not?\n",
        "*   Is there a pattern or something in common for those that compete for transport?"
      ]
    },
    {
      "cell_type": "markdown",
      "metadata": {
        "id": "Gn7N5JcVvCFB"
      },
      "source": [
        "# Transport kinetics - Michaelis-Menten\n",
        "As we have seen above, glutamine transporters can be characterized by their specificity for other amino acids and their dependence on ions. However, they can also be characterized by their transport kinetics.\n",
        "\n",
        "A classical way to characterize cellular transport is by performing experiments that measure the initial velocity of transport at increasing concentrations up to the point where saturation is observed. Such experiments can be described by the Michaelis-Menten equation:\n",
        "$$v = V_{max}\\frac{[S]}{K_m + [S]}$$\n",
        "Where:\n",
        "\n",
        "- $V_{max}$: The maximum reaction rate\n",
        "- $[S]$: The substrate concentration\n",
        "- $K_m$: The Michaelis-Menten constant (corresponds to [S] at which $v = \\frac{Vmax}{2}$)\n",
        "\n",
        "Now you will import such a data set and determine the $K_m$, which will be compared to values from the literature and may help in zooming in on the identity of the transporter.\n",
        "\n",
        "We have measured the initial transport velocity of Gln at different concentrations in the range of 0 - 10 mM and the data should first be imported, placed in a pandas dataframe and displayed in a scatter plot.\n",
        "\n",
        "\n",
        "\n"
      ]
    },
    {
      "cell_type": "markdown",
      "metadata": {
        "id": "p-MqWIaMTrPq"
      },
      "source": [
        "### Code cell 17"
      ]
    },
    {
      "cell_type": "code",
      "execution_count": null,
      "metadata": {
        "id": "eWYkpvzyvwPn"
      },
      "outputs": [],
      "source": [
        "# The data are in a shared file on a google drive with the following url, which\n",
        "# we assign to a new variable called \"url2\":\n",
        "#url3 = 'https://drive.google.com/uc?id=1A-zdpKv-OohIdteeluFJSkARXNF1lvcD'\n",
        "\n",
        "# Let us read the data into a new pandas dataframe called \"df_gln_mm\":\n",
        "#df_gln_mm = pd.read_csv(url3)\n",
        "df_gln_mm = pd.read_csv('MM_data.csv')\n",
        "\n",
        "# Take a look at the data:\n",
        "df_gln_mm"
      ]
    },
    {
      "cell_type": "markdown",
      "metadata": {
        "id": "cwtl_x49TujL"
      },
      "source": [
        "### Code cell 18"
      ]
    },
    {
      "cell_type": "code",
      "execution_count": null,
      "metadata": {
        "id": "7pP8SivCwgEq"
      },
      "outputs": [],
      "source": [
        "# Let us plot the data with glutamine concentrations on the x-axis and velocities on the y-axis.\n",
        "fig7 = go.Figure()\n",
        "fig7.update_layout(title='Michaelis-menten plot',\n",
        "                   xaxis_title = '[Gln] mM',\n",
        "                   yaxis_title = 'V',\n",
        "                   autosize=False, width=1000, height=500)\n",
        "fig7.add_scatter(x=df_gln_mm['[Gln]'], y=df_gln_mm['V'],\n",
        "                          mode='markers', name='Gln - Measured values')\n",
        "fig7.show()"
      ]
    },
    {
      "cell_type": "markdown",
      "metadata": {
        "id": "QDFo3876nnxY"
      },
      "source": [
        "## QUESTIONS\n",
        "Though this is not a perfect curve, it shows a clear pattern of following the Michaelis-Menten equation.\n",
        "$$v = V_{max}\\frac{[S]}{K_m + [S]}$$\n",
        "\n",
        "Answer the following with your own words:\n",
        "*   What does the Michaelis-Menten equation describe?\n",
        "*   What do $V_{max}$ and $K_m$ mean?\n",
        "*   Can you estimate $V_{max}$ and $K_m$ from the above plot?"
      ]
    },
    {
      "cell_type": "markdown",
      "metadata": {
        "id": "Tx81XnWoaA-b"
      },
      "source": [
        "# Curve fitting\n",
        "In python, curve fitting can be done for virtually any equation. Thus, let us try to determine the constants, $V_{max}$ and $K_m$ directly from the Michaelis-Menten equation.\n"
      ]
    },
    {
      "cell_type": "markdown",
      "metadata": {
        "id": "lp6XXVc5Twpb"
      },
      "source": [
        "### Code cell 19"
      ]
    },
    {
      "cell_type": "code",
      "execution_count": null,
      "metadata": {
        "id": "eslF_DfMwVLP"
      },
      "outputs": [],
      "source": [
        "# First we define the Michaelis-Menten function\n",
        "def mm_func(s, Vmax, Km):\n",
        "  v = (Vmax * s) / (Km + s)\n",
        "  return(v)"
      ]
    },
    {
      "cell_type": "markdown",
      "metadata": {
        "id": "jWsBCRfZTyrr"
      },
      "source": [
        "### Code cell 20"
      ]
    },
    {
      "cell_type": "code",
      "execution_count": null,
      "metadata": {
        "id": "y-cRdaDPscVB"
      },
      "outputs": [],
      "source": [
        "# Define the data to be fitted (same as those plotted above)\n",
        "s_values = df_gln_mm['[Gln]']\n",
        "v_values = df_gln_mm['V']\n",
        "\n",
        "# Fitting the data in the df_gln_mm dataframe to the mm_func above\n",
        "# (providing some initial guesses for Vmax and Km):\n",
        "mm = Model(mm_func).fit(v_values, s=s_values, Vmax=10, Km=1)\n",
        "\n",
        "# Printing the constants:\n",
        "print('Vmax =', round(mm.params['Vmax'].value, 2), 'and Km =', round(mm.params['Km'].value, 2))\n",
        "\n",
        "# And let us also look at the fitting report:\n",
        "print('\\n', mm.fit_report())\n"
      ]
    },
    {
      "cell_type": "markdown",
      "metadata": {
        "id": "XxKWMUw00aqf"
      },
      "source": [
        "The fitting procedure also provides the Y-values calculated with the fitted parameters (in an output parameter called \"mm.best_fit\"), which we can use to draw the best fitted curve. Thus, we use the velocities calculated with the fitted parameters to draw the best fitted curve."
      ]
    },
    {
      "cell_type": "markdown",
      "metadata": {
        "id": "rY1RQiO5T03F"
      },
      "source": [
        "### Code cell 21"
      ]
    },
    {
      "cell_type": "code",
      "execution_count": null,
      "metadata": {
        "id": "shtliUjz5VDk"
      },
      "outputs": [],
      "source": [
        "# Define the data to plot\n",
        "s_values = df_gln_mm['[Gln]']\n",
        "v_values = mm.best_fit\n",
        "\n",
        "# Then adding the curve to the previous figure:\n",
        "fig7.add_scatter(x=s_values, y=v_values, mode='lines', name='Gln - Fitted curve')\n",
        "\n",
        "# Display the figure\n",
        "fig7.show()"
      ]
    },
    {
      "cell_type": "markdown",
      "metadata": {
        "id": "o1QoQpdcx72g"
      },
      "source": [
        "The output curve is not completely \"smooth\" as the \"mm.best_fit\" object only contains the 41 points used to make the fit and \"plotly\" draws the line from point to point. If we wanted a smooth curve, we would need to calculate more velocities from closer spaced koncentrations using the determined $K_m$ and $V_{max}$."
      ]
    },
    {
      "cell_type": "markdown",
      "metadata": {
        "id": "BcoxHWVy9Exx"
      },
      "source": [
        "## CLASS DISCUSSION\n",
        "\n",
        "*   How do $V_{max}$ and $K_m$ determined from the Michaelis-Menten equation ($V_{max}$ = 7.72 and $K_m$ = 0.42) fit with those you estimated before performing the fit?\n",
        "\n",
        "In the literature we have found the following values for $K_m$ at different glutamine transporters:\n",
        "\n",
        "Transporter|   ASCT2   | ATB0+ |   B0AT1   |    LAT1    | SNAT1/2  |SNAT3/5/7| SLC38A9 |\n",
        "-----------|-----------|-------|-----------|------------|----------|---------|---------|\n",
        "$K_m (mM)$ | 0.1 - 0.4 | ~0.6  | 0.3 - 3.2 | 0.03 - 1.6 | 0.2 - 0.5|0.1 - 3.2|  ~0.5  |\n",
        "\n",
        "When comparing these reported values to the $K_m$ determined from our own data, can you then exclude some of these transporters?\n",
        "___\n",
        "About the code\n",
        "* Explain what *def mm_func* does."
      ]
    },
    {
      "cell_type": "markdown",
      "metadata": {
        "id": "sgdLJFcOtl-e"
      },
      "source": [
        "# Transport inhibitors\n",
        "Now we want you to look at Gln uptake inhibition experiments where we use inhibitors that are specific for the different types of Gln transporters found in human cells."
      ]
    },
    {
      "cell_type": "markdown",
      "metadata": {
        "id": "bOA3IR_LT3sT"
      },
      "source": [
        "### Code cell 22"
      ]
    },
    {
      "cell_type": "code",
      "execution_count": null,
      "metadata": {
        "id": "JAxcmhM1zCtV"
      },
      "outputs": [],
      "source": [
        "# The data are in a shared file on a google drive with the following url, which\n",
        "# we assign to a new variable called \"url4:\n",
        "#url4 = 'https://drive.google.com/uc?id=1prcdLMRzeuW7Ot-A-qqq6SD8Hn5dMIt5'\n",
        "\n",
        "# Let us read the data into a new pandas dataframe called \"df_gln_inh\":\n",
        "#df_gln_inh = pd.read_csv(url4)\n",
        "df_gln_inh = pd.read_csv('MM_data_inh.csv')\n",
        "\n",
        "# Take a look at the data:\n",
        "df_gln_inh"
      ]
    },
    {
      "cell_type": "markdown",
      "metadata": {
        "id": "bhbeusILT5gU"
      },
      "source": [
        "### Code cell 23"
      ]
    },
    {
      "cell_type": "code",
      "execution_count": null,
      "metadata": {
        "id": "nf9M5z3T054u"
      },
      "outputs": [],
      "source": [
        "# We make a loop where i is the column titles for the two inhibitors\n",
        "for i in ['V(inh1)', 'V(inh2)']:\n",
        "  # Define the data to be fitted\n",
        "  s_values = df_gln_inh['[Gln]']\n",
        "  v_values = df_gln_inh[i]\n",
        "\n",
        "  # Fitting the data in the df_gln_inh dataframe to the mm_func defined above\n",
        "  # (providing some initial guesses for Vmax and Km):\n",
        "  mm = Model(mm_func).fit(v_values, s=s_values, Vmax=10, Km=1)\n",
        "\n",
        "  # Printing the constants:\n",
        "  print(i+': Vmax =', round(mm.params['Vmax'].value, 2), 'and Km =', round(mm.params['Km'].value, 2))\n",
        "\n",
        "  # Adding a trace with the measured values to the figure above:\n",
        "  fig7.add_scatter(x=df_gln_inh['[Gln]'], y=df_gln_inh[i],\n",
        "                          mode='markers', name=i+' - Measured values')\n",
        "  # Adding a trace with the fitted values:\n",
        "  fig7.add_scatter(x=s_values, y=mm.best_fit, mode='lines', name=i+' - Fitted curve')\n",
        "\n",
        "# Display the figure\n",
        "fig7.show()"
      ]
    },
    {
      "cell_type": "markdown",
      "metadata": {
        "id": "w565FqHO6oOZ"
      },
      "source": [
        "## CLASS DISCUSSION\n",
        "The two tested inhibitors show markedly different effects on the Michaelis-Menten curve.\n",
        "* How do the two inhibitors affect $V_{max}$ and $K_m$?\n",
        "* One of them is a competitive inhibitor, which and why?\n",
        "* The other one is a non-competitive inhibitor, which and why?\n",
        "\n",
        "The two tested inhibitors are called Nimesulide and Benztropine.\n",
        "* Find relevant information on the two inhibitors\n",
        " * Which of them is the competitive/non-competitive inhibitor?\n",
        "___\n",
        "Taking all information into account, can we now identify the Gln transporter that have been studied?\n"
      ]
    },
    {
      "cell_type": "markdown",
      "metadata": {
        "id": "L019Ew7WiyJQ"
      },
      "source": [
        "# **EXTRA: Inhibitor structure and mechanism ????**\n",
        "* Can you deduce the mechanism of inhibition from the compound structure (run the code below)?"
      ]
    },
    {
      "cell_type": "markdown",
      "metadata": {
        "id": "stHjOC4OT8OW"
      },
      "source": [
        "### Code cell 24"
      ]
    },
    {
      "cell_type": "code",
      "execution_count": null,
      "metadata": {
        "id": "_xIcrTtR4mge"
      },
      "outputs": [],
      "source": [
        "# Import needed libraries\n",
        "%pip install pubchempy -qqq\n",
        "import pubchempy as pcp\n",
        "%pip install rdkit-pypi -qqq\n",
        "%pip install mols2grid -qqq\n",
        "import mols2grid"
      ]
    },
    {
      "cell_type": "markdown",
      "metadata": {
        "id": "HLlQ1b2DT-aI"
      },
      "source": [
        "### Code cell 25"
      ]
    },
    {
      "cell_type": "code",
      "execution_count": null,
      "metadata": {
        "id": "TaCRxGV3cJwB"
      },
      "outputs": [],
      "source": [
        "# Define a list with compounds names (Inh 1 is not in the PubChem database):\n",
        "compounds = ['Benztropine','Nimesulide']\n",
        "# Make a dataframe to contain the compound names and smiles\n",
        "out_df = pd.DataFrame(columns=['SMILES', 'Name'])\n",
        "# Loop over the list\n",
        "for cmpd in compounds:\n",
        "  # Get he CID from PubChem:\n",
        "  cids = pcp.get_compounds(cmpd, 'name')\n",
        "  # Get the SMILES from the CID:\n",
        "  smi = cids[0].canonical_smiles\n",
        "  # Put the SMILES and compound name into the dataframe:\n",
        "  out_df.loc[len(out_df)] = [smi, cmpd]\n",
        "\n",
        "# Get the molecule structure from the SMILES:\n",
        "mols2grid.display(out_df, smiles_col=\"SMILES\", size=(200,200), subset=['Name'], fontsize='16px')"
      ]
    }
  ],
  "metadata": {
    "colab": {
      "private_outputs": true,
      "provenance": [],
      "toc_visible": true
    },
    "kernelspec": {
      "display_name": "Python 3",
      "name": "python3"
    },
    "language_info": {
      "name": "python"
    }
  },
  "nbformat": 4,
  "nbformat_minor": 0
}
